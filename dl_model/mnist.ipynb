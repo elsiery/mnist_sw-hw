{
 "cells": [
  {
   "cell_type": "code",
   "execution_count": null,
   "metadata": {},
   "outputs": [],
   "source": [
    "\"\"\"\n",
    "\n",
    "Author : Elsie Rezinold Yedida\n",
    "\n",
    "\n",
    "\"\"\"\n",
    "import numpy as np\n",
    "import tensorflow as tf\n",
    "\n",
    "import tensorflow_datasets as tfds\n",
    "\n",
    "import matplotlib.pyplot as plt\n",
    "\n",
    "from tensorflow.keras import layers\n",
    "from tensorflow.keras import models\n",
    "\n",
    "(train,test),info = tfds.load('mnist',split=\n",
    "\t\t['train','test'],\n",
    "\t\twith_info=True,\n",
    "\t\tas_supervised=True\n",
    "\t\t)\n",
    "\n",
    "\n",
    "def format_image(image,label):\n",
    "\timage = tf.image.resize(image,(16,16))/255.0\n",
    "\treturn image,label\n",
    "\n",
    "BATCH_SIZE = 32\n",
    "num_examples = info.splits['train'].num_examples\n",
    "\n",
    "train_ex = train.cache().shuffle(num_examples//4).map(format_image).batch(BATCH_SIZE).prefetch(1)\n",
    "test_ex = test.cache().map(format_image).batch(BATCH_SIZE).prefetch(1)\n",
    "\n",
    "layer0 = layers.Flatten(input_shape=(16,16))\n",
    "layer1 = layers.Dense(20,activation='relu')\n",
    "#layer1_1 = layers.Dense(20,activation='relu')\n",
    "#layer2 = layers.Dense(10,activation='softmax')\n",
    "layer2 = layers.Dense(10,activation='sigmoid')\n",
    "\n",
    "model = models.Sequential([layer0,layer1,layer2])\n",
    "model.compile(optimizer='adam',loss='sparse_categorical_crossentropy',metrics=['acc'])\n",
    "history =model.fit(train_ex,epochs=100)\n",
    "model.evaluate(test_ex)\n",
    "acc = history.history['acc']\n",
    "\n",
    "epochs_range = range(100)\n",
    "\n",
    "loss = history.history['loss']\n",
    "plt.figure(figsize=(8,8))\n",
    "plt.subplot(1,2,1)\n",
    "plt.plot(epochs_range,acc,label='Training_accuracy')\n",
    "#plt.plot(epochs_range,val_acc,label='validation_accuracy')\n",
    "plt.legend(loc='lower right')\n",
    "plt.title('Training & Validation Accuracy')\n",
    "\n",
    "plt.subplot(1,2,2)\n",
    "plt.plot(epochs_range,loss,label='loss')\n",
    "#plt.plot(epochs_range,val_loss,label='validation_loss')\n",
    "plt.legend(loc='upper right')\n",
    "plt.title('Training & Validation loss')\n",
    "plt.savefig('./metrics.png')\n",
    "plt.show()\n",
    "\n",
    "\n"
   ]
  },
  {
   "cell_type": "code",
   "execution_count": null,
   "metadata": {},
   "outputs": [],
   "source": [
    "test_im,test_lb = next(iter(test_ex.take(1)))\n",
    "test_im =test_im.numpy()\n",
    "test_lb = test_lb.numpy()\n",
    "\n",
    "im0 = test_im[:32]\n",
    "lb0 = test_lb[:32]\n",
    "\n",
    "im0 = tf.squeeze(im0).numpy()\n",
    "args = model.predict(im0)\n",
    "args = tf.squeeze(args).numpy()\n",
    "\n",
    "prediction_ids = np.argmax(args,axis=-1)\n",
    "print(prediction_ids)\n",
    "print(lb0)\n",
    "\n",
    "\n",
    "\n",
    "\n",
    "\n",
    "\n"
   ]
  },
  {
   "cell_type": "code",
   "execution_count": null,
   "metadata": {},
   "outputs": [],
   "source": [
    "import nn_functions as nn\n",
    "print(im0.shape)\n",
    "im0=im0.reshape(32,256)\n",
    "im0 = np.transpose(im0)\n",
    "print(im0.shape)\n",
    "\n",
    "w0 = np.zeros((20,256))\n",
    "w0 = np.transpose(model.layers[1].get_weights()[0])\n",
    "w1 = np.zeros((10,20))\n",
    "w1 = np.transpose(model.layers[2].get_weights()[0])\n",
    "b0 = np.zeros((20,1))\n",
    "print (b0.shape)\n",
    "b0 = model.layers[1].get_weights()[1]\n",
    "print (b0.shape)\n",
    "b0=b0.reshape(20,1)\n",
    "print (b0.shape)\n",
    "b1 = np.zeros((10,1))\n",
    "b1 = model.layers[2].get_weights()[1]\n",
    "print (b1.shape)\n",
    "b1=b1.reshape(10,1)\n",
    "print (b1.shape)\n",
    "y1 = np.zeros((20,32))\n",
    "y2 = np.zeros((10,32))\n",
    "y2_ws = np.zeros((10,32))\n",
    "\n",
    "y1 = nn.node(im0,w0,b0,\"relu\")\n",
    "y2 = nn.node(y1,w1,b1,\"sigmoid\")\n",
    "y2_ws = nn.node(y1,w1,b1,\"\")\n",
    "\n",
    "print(y2_ws.shape)"
   ]
  },
  {
   "cell_type": "code",
   "execution_count": null,
   "metadata": {},
   "outputs": [],
   "source": [
    "print(args[0])\n",
    "y2 = np.transpose(y2)\n",
    "y2_ws = np.transpose(y2_ws)\n",
    "print(y2[0])\n",
    "print(y2_ws[0])"
   ]
  },
  {
   "cell_type": "code",
   "execution_count": null,
   "metadata": {},
   "outputs": [],
   "source": [
    "import bitstring, random\n",
    "def ieee754(flt):\n",
    "    b = bitstring.BitArray(float=flt, length=32)\n",
    "    return b\n"
   ]
  },
  {
   "cell_type": "code",
   "execution_count": null,
   "metadata": {},
   "outputs": [],
   "source": [
    "for i in range(10):\n",
    "    num = ieee754(y2_ws[0][i])\n",
    "    print(num.hex)\n",
    "\n",
    "    "
   ]
  },
  {
   "cell_type": "code",
   "execution_count": null,
   "metadata": {},
   "outputs": [],
   "source": [
    "fl = \"\"\" file location\"\"\"\n",
    "with open(fl,'w') as f:\n",
    "    f.write(\"initial begin\\n\")\n",
    "    for j in range(20):\n",
    "        for i in range(256):\n",
    "            num = ieee754(w0[j][i])\n",
    "            f.write(\"\\tw1_\"+str(j+1)+\"[\"+str(32*(i+1) -1)+\":\"+str(32*i)+\"] = 32'h\" +num.hex+\";\\n\")\n",
    "    f.write(\"end\\n\")\n",
    "\n"
   ]
  },
  {
   "cell_type": "code",
   "execution_count": null,
   "metadata": {},
   "outputs": [],
   "source": [
    "fl = \"\"\" file location\"\"\"\n",
    "with open(fl,'w') as f:\n",
    "    f.write(\"initial begin\\n\")\n",
    "    for j in range(10):\n",
    "        for i in range(20):\n",
    "            num = ieee754(w1[j][i])\n",
    "            f.write(\"\\tw2_\"+str(j+1)+\"[\"+str(32*(i+1) -1)+\":\"+str(32*i)+\"] = 32'h\" +num.hex+\";\\n\")\n",
    "    f.write(\"end\\n\")\n",
    "\n"
   ]
  },
  {
   "cell_type": "code",
   "execution_count": null,
   "metadata": {},
   "outputs": [],
   "source": [
    "fl = \"\"\" file location\"\"\"\n",
    "with open(fl,'w') as f:\n",
    "    f.write(\"initial begin\\n\")\n",
    "    for i in range(20):\n",
    "        num = ieee754(b0[i])\n",
    "        f.write(\"\\tb1[\"+str(32*(i+1) -1)+\":\"+str(32*i)+\"] = 32'h\" +num.hex+\";\\n\")\n",
    "    f.write(\"end\\n\")\n",
    "\n"
   ]
  },
  {
   "cell_type": "code",
   "execution_count": null,
   "metadata": {},
   "outputs": [],
   "source": [
    "fl = \"\"\" file location\"\"\"\n",
    "with open(fl,'w') as f:\n",
    "    f.write(\"initial begin\\n\")\n",
    "    for i in range(10):\n",
    "        num = ieee754(b1[i])\n",
    "        f.write(\"\\tb2[\"+str(32*(i+1) -1)+\":\"+str(32*i)+\"] = 32'h\" +num.hex+\";\\n\")\n",
    "    f.write(\"end\\n\")\n",
    "        "
   ]
  },
  {
   "cell_type": "code",
   "execution_count": null,
   "metadata": {},
   "outputs": [],
   "source": [
    "\n",
    "fl = \"\"\" file location\"\"\"\n",
    "with open(fl,'w') as f:\n",
    "    f.write(\"initial begin\\n\")\n",
    "    for j in range(32):\n",
    "        k = 0\n",
    "        for i in range(256):\n",
    "            num = ieee754(im0[i][j])\n",
    "            f.write(\"\\tin\"+\"[\"+str(j)+\"]\"+\"[\"+str(32*(k+1) -1)+\":\"+str(32*k)+\"] = 32'h\" +num.hex+\";\\n\")\n",
    "            k +=1\n",
    "    f.write(\"end\\n\")\n",
    "\n",
    "    \n"
   ]
  },
  {
   "cell_type": "code",
   "execution_count": null,
   "metadata": {},
   "outputs": [],
   "source": [
    "\n",
    "fl = \"\"\" file location\"\"\"\n",
    "with open(fl,'w') as f:\n",
    "    for j in range(32):\n",
    "        for i in range(20):\n",
    "            num = ieee754(y1[i][j])\n",
    "            f.write(num.hex+\"\\n\")\n",
    "\n",
    "\n"
   ]
  },
  {
   "cell_type": "code",
   "execution_count": null,
   "metadata": {},
   "outputs": [],
   "source": [
    "\n",
    "fl = \"\"\" file location\"\"\"\n",
    "with open(fl,'w') as f:\n",
    "    for i in range(32):\n",
    "        for j in range(10):\n",
    "            num = ieee754(y2_ws[i][j])\n",
    "            f.write(num.hex+\"\\n\")"
   ]
  },
  {
   "cell_type": "code",
   "execution_count": null,
   "metadata": {},
   "outputs": [],
   "source": [
    "test_batch = test.cache().map(format_image).batch(10000).prefetch(1)\n",
    "\n",
    "test_im,test_lb = next(iter(test_batch.take(1)))\n",
    "test_im =test_im.numpy()\n",
    "test_lb = test_lb.numpy()\n",
    "\n",
    "im0 = test_im[:10000]\n",
    "lb0 = test_lb[:10000]\n",
    "\n",
    "im0 = tf.squeeze(im0).numpy()\n",
    "args = model.predict(im0)\n",
    "args = tf.squeeze(args).numpy()\n",
    "\n",
    "prediction_ids = np.argmax(args,axis=-1)\n",
    "print(prediction_ids)\n",
    "print(lb0)\n"
   ]
  },
  {
   "cell_type": "code",
   "execution_count": null,
   "metadata": {},
   "outputs": [],
   "source": [
    "import nn_functions as nn\n",
    "print(im0.shape)\n",
    "im0=im0.reshape(10000,256)\n",
    "im0 = np.transpose(im0)\n",
    "print(im0.shape)\n",
    "\"\"\"\n",
    "w0 = np.zeros((20,256))\n",
    "w0 = np.transpose(model.layers[1].get_weights()[0])\n",
    "w1 = np.zeros((10,20))\n",
    "w1 = np.transpose(model.layers[2].get_weights()[0])\n",
    "b0 = np.zeros((20,1))\n",
    "print (b0.shape)\n",
    "b0 = model.layers[1].get_weights()[1]\n",
    "print (b0.shape)\n",
    "b0=b0.reshape(20,1)\n",
    "print (b0.shape)\n",
    "b1 = np.zeros((10,1))\n",
    "b1 = model.layers[2].get_weights()[1]\n",
    "print (b1.shape)\n",
    "b1=b1.reshape(10,1)\n",
    "print (b1.shape)\n",
    "y1 = np.zeros((20,32))\n",
    "y2 = np.zeros((10,32))\n",
    "y2_ws = np.zeros((10,32))\n",
    "\"\"\"\n",
    "y1 = nn.node(im0,w0,b0,\"relu\")\n",
    "y2 = nn.node(y1,w1,b1,\"sigmoid\")\n",
    "y2_ws = nn.node(y1,w1,b1,\"\")\n",
    "\n",
    "print(y2_ws.shape)"
   ]
  },
  {
   "cell_type": "code",
   "execution_count": null,
   "metadata": {},
   "outputs": [],
   "source": [
    "fl = \"\"\" file location\"\"\"\n",
    "with open(fl,'w') as f:\n",
    "    f.write(\"initial begin\\n\")\n",
    "    for j in range(10000):\n",
    "        k = 0\n",
    "        for i in range(256):\n",
    "            num = ieee754(im0[i][j])\n",
    "            f.write(\"\\tin\"+\"[\"+str(j)+\"]\"+\"[\"+str(32*(k+1) -1)+\":\"+str(32*k)+\"] = 32'h\" +num.hex+\";\\n\")\n",
    "            k +=1\n",
    "    f.write(\"end\\n\")\n"
   ]
  },
  {
   "cell_type": "code",
   "execution_count": null,
   "metadata": {},
   "outputs": [],
   "source": [
    "fl = \"\"\" file location\"\"\"\n",
    "with open(fl,'w') as f:\n",
    "    for j in range(10000):\n",
    "        for i in range(20):\n",
    "            num = ieee754(y1[i][j])\n",
    "            f.write(num.hex+\"\\n\")\n"
   ]
  },
  {
   "cell_type": "code",
   "execution_count": null,
   "metadata": {},
   "outputs": [],
   "source": [
    "y2_ws = np.transpose(y2_ws)\n",
    "fl = \"\"\" file location\"\"\"\n",
    "with open(fl,'w') as f:\n",
    "    for i in range(10000):\n",
    "        for j in range(10):\n",
    "            num = ieee754(y2_ws[i][j])\n",
    "            f.write(num.hex+\"\\n\")"
   ]
  }
 ],
 "metadata": {
  "kernelspec": {
   "display_name": "tf-ws",
   "language": "python",
   "name": "python3"
  },
  "language_info": {
   "codemirror_mode": {
    "name": "ipython",
    "version": 3
   },
   "file_extension": ".py",
   "mimetype": "text/x-python",
   "name": "python",
   "nbconvert_exporter": "python",
   "pygments_lexer": "ipython3",
   "version": "3.10.13"
  }
 },
 "nbformat": 4,
 "nbformat_minor": 2
}
